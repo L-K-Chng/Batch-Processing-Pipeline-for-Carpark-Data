{
 "cells": [
  {
   "cell_type": "code",
   "execution_count": 1,
   "id": "b5a59aa8-7bcb-4268-9fbe-34564da3c5b0",
   "metadata": {},
   "outputs": [],
   "source": [
    "from faker import Faker\n",
    "import json\n",
    "from datetime import datetime, timedelta\n",
    "import random\n",
    "import pandas as pd\n",
    "import matplotlib.pyplot as plt\n",
    "import psycopg2 as db\n",
    "\n",
    "import os\n",
    "os.chdir('/mnt/c/Users/lipku/Documents/EE3801/Part2')\n",
    "\n",
    "date_format = \"%d/%m/%Y %H:%M:%S\"\n"
   ]
  },
  {
   "cell_type": "code",
   "execution_count": 2,
   "id": "a73452b8-59d4-4dd6-be0a-b0bfaad83c4c",
   "metadata": {},
   "outputs": [
    {
     "name": "stdout",
     "output_type": "stream",
     "text": [
      "new_carpark_system_df: 100\n",
      "updated_carpark_system_df: 2100\n"
     ]
    }
   ],
   "source": [
    "# Read existing data \n",
    "carpark_system_df = pd.read_csv(\"data/carpark_system.csv\", encoding=\"utf-8-sig\")\n",
    "carpark_system_df.drop(columns=\"Unnamed: 0\", inplace=True)\n",
    "carpark_system_df.head()\n",
    "\n",
    "# generate exit data and charging on previous dataset\n",
    "for index, item in carpark_system_df.iterrows():\n",
    "    \n",
    "    if str(item[\"Exit_DateTime\"]) == \"\" or item[\"Exit_DateTime\"]==None or str(item[\"Exit_DateTime\"]) == \"nan\":\n",
    "        days  = 0 # not more than a day\n",
    "        hours = random.randint(0, 12) # not more than 12 hours\n",
    "        minutes = random.randint(1, 60)\n",
    "        seconds = random.randint(1, 60)\n",
    "\n",
    "        exit_datetime = datetime.strptime(item['Entry_DateTime'], date_format) + timedelta(days=days, hours=hours, minutes=minutes, seconds=seconds)\n",
    "\n",
    "        if exit_datetime==None or str(exit_datetime)=='nan':\n",
    "            carpark_system_df.loc[index, \"Exit_DateTime\"] = datetime.strptime(item['Entry_DateTime'], date_format) + timedelta(hours=hours, minutes=minutes, seconds=seconds)\n",
    "        else:\n",
    "            carpark_system_df.loc[index, \"Exit_DateTime\"] = exit_datetime.strftime(date_format)\n",
    "\n",
    "        charged = (exit_datetime - datetime.strptime(item['Entry_DateTime'], date_format)).seconds/60/60/2 * 60/100\n",
    "        carpark_system_df.loc[index, \"Parking_Charges\"] = charged\n",
    "\n",
    "\n",
    "# generate new cars entry and exit\n",
    "\n",
    "fake=Faker()\n",
    "fake.license_plate()\n",
    "\n",
    "class CarPark:\n",
    "    def __init__(self, Plate, LocationID, Entry_DateTime, Exit_DateTime, Parking_Charges):\n",
    "        self.Plate = Plate\n",
    "        self.LocationID = LocationID\n",
    "        self.Entry_DateTime = Entry_DateTime\n",
    "        self.Exit_DateTime = Exit_DateTime\n",
    "        self.Parking_Charges = Parking_Charges\n",
    "\n",
    "def createNewCarEntryNow():\n",
    "    # days  = random.randint(1, 60) # 2-3 months\n",
    "    hours = random.randint(9, 20)\n",
    "    minutes = random.randint(1, 60)\n",
    "    seconds = random.randint(1, 60)\n",
    "\n",
    "    ts = datetime.now() - timedelta(hours=hours, minutes=minutes, seconds=seconds)\n",
    "\n",
    "    hours = random.randint(0, 9) # not more than 12 hours\n",
    "    minutes = random.randint(1, 60)\n",
    "    seconds = random.randint(1, 60)\n",
    "\n",
    "    duration = timedelta(hours=hours, minutes=minutes, seconds=seconds)\n",
    "    exit_datetime = ts - duration\n",
    "    charged = duration.seconds/60/60/2 * 60/100\n",
    "\n",
    "    car = CarPark(\n",
    "        Plate= fake.license_plate(),\n",
    "        LocationID=\"Park\"+str(random.randint(0, 5)),\n",
    "        Entry_DateTime=ts.strftime(date_format), #.isoformat(),\n",
    "        Exit_DateTime=exit_datetime.strftime(date_format),\n",
    "        Parking_Charges=charged\n",
    "    )\n",
    "\n",
    "    return json.dumps(car.__dict__) #, sort_keys=True, indent=4)\n",
    "\n",
    "\n",
    "# Generate more cars, append to list and save csv\n",
    "carpark_system = []\n",
    "for i in range(100):\n",
    "    thiscar_dict = eval(createNewCarEntryNow())\n",
    "    carpark_system.append(list(thiscar_dict.values()))\n",
    "\n",
    "new_carpark_system_df = pd.DataFrame(carpark_system, columns=list(eval(createNewCarEntryNow()).keys()))\n",
    "print(\"new_carpark_system_df:\",len(new_carpark_system_df))\n",
    "# print(new_carpark_system_df.head())\n",
    "\n",
    "updated_carpark_system_df = pd.concat([carpark_system_df,new_carpark_system_df], axis=0)\n",
    "print(\"updated_carpark_system_df:\",len(updated_carpark_system_df))\n",
    "updated_carpark_system_df.tail()\n",
    "\n",
    "# export to csv for further analysis\n",
    "updated_carpark_system_df.to_csv(\"data/carpark_system.csv\", encoding='utf-8-sig')\n",
    "# export to your OneDrive too for on-demand refresh\n",
    "updated_carpark_system_df.to_csv(\"/mnt/c/Users/lipku/OneDrive - National University of Singapore/EE3801/Lab 8/carpark_system.csv\", encoding='utf-8-sig')"
   ]
  },
  {
   "cell_type": "code",
   "execution_count": 3,
   "id": "0ea7e557-69ae-4748-9e30-af4623e020f3",
   "metadata": {},
   "outputs": [
    {
     "name": "stdout",
     "output_type": "stream",
     "text": [
      "mkdir: cannot create directory ‘/mnt/c/Users/lipku/Documents/EE3801/Part2/dev_airflow/dags/data’: File exists\n",
      "/mnt/c/Users/lipku/Documents/EE3801/Part2\n"
     ]
    }
   ],
   "source": [
    "!mkdir /mnt/c/Users/lipku/Documents/EE3801/Part2/dev_airflow/dags/data\n",
    "!pwd"
   ]
  },
  {
   "cell_type": "code",
   "execution_count": 4,
   "id": "162c3db2-71c9-4e78-a0af-b3758d999feb",
   "metadata": {},
   "outputs": [
    {
     "data": {
      "text/html": [
       "<div>\n",
       "<style scoped>\n",
       "    .dataframe tbody tr th:only-of-type {\n",
       "        vertical-align: middle;\n",
       "    }\n",
       "\n",
       "    .dataframe tbody tr th {\n",
       "        vertical-align: top;\n",
       "    }\n",
       "\n",
       "    .dataframe thead th {\n",
       "        text-align: right;\n",
       "    }\n",
       "</style>\n",
       "<table border=\"1\" class=\"dataframe\">\n",
       "  <thead>\n",
       "    <tr style=\"text-align: right;\">\n",
       "      <th></th>\n",
       "      <th>Plate</th>\n",
       "      <th>LocationID</th>\n",
       "      <th>Entry_DateTime</th>\n",
       "      <th>Exit_DateTime</th>\n",
       "      <th>Parking_Charges</th>\n",
       "    </tr>\n",
       "  </thead>\n",
       "  <tbody>\n",
       "    <tr>\n",
       "      <th>0</th>\n",
       "      <td>922 THH</td>\n",
       "      <td>Park4</td>\n",
       "      <td>2024-08-15 21:08:25</td>\n",
       "      <td>2024-08-16 00:36:31</td>\n",
       "      <td>1.040500</td>\n",
       "    </tr>\n",
       "    <tr>\n",
       "      <th>1</th>\n",
       "      <td>EWS 428</td>\n",
       "      <td>Park3</td>\n",
       "      <td>2024-08-08 05:06:26</td>\n",
       "      <td>2024-08-08 14:04:49</td>\n",
       "      <td>2.691917</td>\n",
       "    </tr>\n",
       "    <tr>\n",
       "      <th>2</th>\n",
       "      <td>8A865</td>\n",
       "      <td>Park3</td>\n",
       "      <td>2024-09-16 23:37:56</td>\n",
       "      <td>2024-09-16 23:51:24</td>\n",
       "      <td>0.067333</td>\n",
       "    </tr>\n",
       "    <tr>\n",
       "      <th>3</th>\n",
       "      <td>2OPH 70</td>\n",
       "      <td>Park2</td>\n",
       "      <td>2024-09-03 03:34:45</td>\n",
       "      <td>2024-09-03 13:38:34</td>\n",
       "      <td>3.019083</td>\n",
       "    </tr>\n",
       "    <tr>\n",
       "      <th>4</th>\n",
       "      <td>260-XSE</td>\n",
       "      <td>Park3</td>\n",
       "      <td>2024-09-29 20:41:22</td>\n",
       "      <td>2024-09-29 20:47:33</td>\n",
       "      <td>0.030917</td>\n",
       "    </tr>\n",
       "  </tbody>\n",
       "</table>\n",
       "</div>"
      ],
      "text/plain": [
       "     Plate LocationID      Entry_DateTime       Exit_DateTime  Parking_Charges\n",
       "0  922 THH      Park4 2024-08-15 21:08:25 2024-08-16 00:36:31         1.040500\n",
       "1  EWS 428      Park3 2024-08-08 05:06:26 2024-08-08 14:04:49         2.691917\n",
       "2    8A865      Park3 2024-09-16 23:37:56 2024-09-16 23:51:24         0.067333\n",
       "3  2OPH 70      Park2 2024-09-03 03:34:45 2024-09-03 13:38:34         3.019083\n",
       "4  260-XSE      Park3 2024-09-29 20:41:22 2024-09-29 20:47:33         0.030917"
      ]
     },
     "execution_count": 4,
     "metadata": {},
     "output_type": "execute_result"
    }
   ],
   "source": [
    "import pandas as pd\n",
    "df = pd.read_csv('./data/carpark_system.csv', encoding='utf-8-sig')\n",
    "df.drop(columns=\"Unnamed: 0\", inplace=True)\n",
    "df['Entry_DateTime'] = pd.to_datetime(df['Entry_DateTime'],format=date_format)\n",
    "df['Exit_DateTime'] = pd.to_datetime(df['Exit_DateTime'],format=date_format)\n",
    "df.head()"
   ]
  },
  {
   "cell_type": "code",
   "execution_count": 5,
   "id": "e662b691-1f6d-4075-b809-ec418d882464",
   "metadata": {},
   "outputs": [],
   "source": [
    "# Create database connection\n",
    "conn_string=\"dbname='carpark_system' host='localhost' user='airflow' password='airflow'\"\n",
    "conn=db.connect(conn_string)\n",
    "cur=conn.cursor()"
   ]
  },
  {
   "cell_type": "code",
   "execution_count": 6,
   "id": "c84f223b-75bc-4c58-b4a4-b5dfccbc70c6",
   "metadata": {},
   "outputs": [
    {
     "name": "stdout",
     "output_type": "stream",
     "text": [
      "(1600,)\n"
     ]
    }
   ],
   "source": [
    "# Check data in table CarPark\n",
    "query = 'SELECT count(*) FROM public.\"CarPark Columns\"'\n",
    "cur.execute(query)\n",
    "\n",
    "# iterate through all the records\n",
    "for record in cur:\n",
    "    print(record)\n",
    "\n",
    "conn.commit()"
   ]
  },
  {
   "cell_type": "code",
   "execution_count": 7,
   "id": "98a6cd2a-7e86-41c8-bc3f-799d47379805",
   "metadata": {},
   "outputs": [
    {
     "name": "stdout",
     "output_type": "stream",
     "text": [
      "Tables in public schema: [('CarPark Columns',)]\n"
     ]
    }
   ],
   "source": [
    "cur.execute(\"SELECT table_name FROM information_schema.tables WHERE table_schema = 'public'\")\n",
    "tables = cur.fetchall()\n",
    "print(\"Tables in public schema:\", tables)"
   ]
  },
  {
   "cell_type": "code",
   "execution_count": 8,
   "id": "b1a634fe-8c5b-4440-94e9-c25a6727d3dd",
   "metadata": {},
   "outputs": [],
   "source": [
    "# insert one row into database\n",
    "query = 'INSERT INTO public.\"CarPark Columns\"(\"Plate\", \"LocationID\", \"Entry_DateTime\", \"Exit_DateTime\", \"Parking_Charges\") VALUES (%s, %s, %s, %s, %s)'\n",
    "data=tuple(df.iloc[0])\n",
    "cur.mogrify(query,data)\n",
    "# execute the query\n",
    "cur.execute(query,data)\n",
    "\n",
    "\n",
    "# insert multiple records in a single statement\n",
    "data = []\n",
    "query = 'INSERT INTO public.\"CarPark Columns\"(\"Plate\", \"LocationID\", \"Entry_DateTime\", \"Exit_DateTime\", \"Parking_Charges\") VALUES (%s, %s, %s, %s, %s)'\n",
    "for index, item in df.iterrows():\n",
    "    if index > 0:\n",
    "        data.append(tuple(item))\n",
    "data_for_db = tuple(data)\n",
    "cur.mogrify(query,data_for_db[0])\n",
    "# execute the query\n",
    "cur.executemany(query,data_for_db)\n",
    "\n",
    "# make it permanent by committing the transaction\n",
    "conn.commit()"
   ]
  },
  {
   "cell_type": "markdown",
   "id": "b3a4b992-cfad-44a3-a00d-425ba7737d5a",
   "metadata": {},
   "source": [
    "## What is the top 5 average parking charges for each carpark location?"
   ]
  },
  {
   "cell_type": "code",
   "execution_count": 9,
   "id": "50301d0b-d2c1-4c4f-a6d2-d924672bd2dc",
   "metadata": {},
   "outputs": [
    {
     "data": {
      "image/png": "[encoded data removed]",
      "text/plain": [
       "<IPython.core.display.Image object>"
      ]
     },
     "execution_count": 9,
     "metadata": {},
     "output_type": "execute_result"
    }
   ],
   "source": [
    "from IPython.display import Image\n",
    "Image(filename='./image/week8_image26.png')"
   ]
  },
  {
   "cell_type": "markdown",
   "id": "c5dc4216-57d8-45cd-8986-c4389fe61b27",
   "metadata": {},
   "source": [
    "# Questions to Ponder "
   ]
  },
  {
   "cell_type": "markdown",
   "id": "6d7e2200-1cfe-4148-931b-8ca2e6717cfa",
   "metadata": {},
   "source": [
    "### When do you need to use batch process?"
   ]
  },
  {
   "cell_type": "markdown",
   "id": "f23b2ea1-0842-41d3-9cbb-ca43a5240a55",
   "metadata": {},
   "source": [
    "Batch processing is required in the following scenarios:\n",
    "\n",
    "1. It is essential when we need to process a significant amount of data that cannot be handled efficiently in real time. For example, processing logs, transactions, or large datasets for analysis.\n",
    "2. Batch processing allows for better resource management since tasks can be run during off-peak hours, minimizing the impact on system performance.\n",
    "3. When multiple processes or workflows need to be completed in a specific order. Batch processing can handle dependencies and orchestration between these tasks.\n",
    "4. When we are required to clean, transform, or aggregate data before analysis or storage. Batch processing is able to efficiently apply complex transformations across large datasets."
   ]
  },
  {
   "cell_type": "markdown",
   "id": "124b2894-5e4d-477b-a7a4-a4264b7ca55f",
   "metadata": {},
   "source": [
    "### Give an example of an application that require batch processing?"
   ]
  },
  {
   "cell_type": "markdown",
   "id": "7a164cc5-f523-4c5e-a2b0-c6fb84c61c6f",
   "metadata": {},
   "source": [
    "An E-Commerce system is an example of an application which requires batch processing. In an e-commerce system, orders are received continuously throughout the day. Instead of processing each order in real-time, which could strain system resources and lead to delays, the system can utilize batch processing by collecting all orders within specific time slots, and then process these orders as a single batch."
   ]
  },
  {
   "cell_type": "markdown",
   "id": "6160fa13-816c-47f7-bbf9-721f598a7f17",
   "metadata": {},
   "source": [
    "### What are the advantages of Airflow batch processing compared to Microsoft Power Apps (MS Excel, MS Sharepoint, MS Power BI)?"
   ]
  },
  {
   "cell_type": "markdown",
   "id": "cf19ea9a-0c0a-43a9-bd8f-76ae54ae7453",
   "metadata": {},
   "source": [
    "Airflow allows users to define complex DAGs that represent workflows. This capability makes it easier to manage dependencies and the execution order of tasks, which is beneficial for complex batch processing scenarios.\n",
    "\n",
    "Airflow provides robust scheduling capabilities which Microsoft Power Apps do not have, allowing users to run tasks at specific intervals or based on external triggers, improving automation and resource utilization.\n",
    "\n",
    "Airflow can distribute tasks to different resources and manage execution based on availability, which is particularly useful for resource-intensive batch processes.\n",
    "\n",
    "Additionally, airflow is primarily Python-based, enabling developers to leverage existing Python libraries and frameworks, which can be more flexible than the formula-based approach in Excel."
   ]
  },
  {
   "cell_type": "markdown",
   "id": "19a8ab66-8029-47a9-aa14-ea17af6d230d",
   "metadata": {},
   "source": [
    "### What are the disadvantages?"
   ]
  },
  {
   "cell_type": "markdown",
   "id": "f0966054-0783-4dec-8111-e3ec5a9b01d2",
   "metadata": {},
   "source": [
    "The disadvantages of Airflow include:\n",
    "1. Being resource intensive\n",
    "   - Running an Airflow instance requires significant resources, especially when handling large workloads or many parallel tasks. This can lead to increased infrastructure costs.\n",
    "2. Database dependency\n",
    "   - Airflow relies on a metadata database to track tasks and their states, which can become a bottleneck if not properly managed or scaled.\n",
    "3. Has a limited User Interface\n",
    "   - While Airflow provides a web-based UI for monitoring and managing workflows, some users find it basic and lacking advanced features compared to dedicated BI tools.\n",
    "   - The visualization of DAGs and task dependencies may not be as intuitive or visually appealing as other workflow management tools.\n",
    "4. Not ideal for Real-Time Processing\n",
    "   - As Airflow is primarily designed for batch processing and scheduled jobs, this makes it less suitable for real-time event processing or immediate task execution"
   ]
  },
  {
   "cell_type": "markdown",
   "id": "e6f146c3-f332-402e-9964-ccc653396a81",
   "metadata": {},
   "source": [
    "### What level of data maturity in an organisation is more suitable for this application?"
   ]
  },
  {
   "cell_type": "markdown",
   "id": "2a3ab538-4992-4b88-a73f-073abb92fc97",
   "metadata": {},
   "source": [
    "Organisations with an intermediate or advanced level of data maturity are most suited to using Apache Airflow. This is because they typically have established data practices, a skilled workforce, and the technical infrastructure necessary to fully utilise Airflow's capabilities. On the other hand, emerging organisations often lack formal data governance and management processes, which can lead to inconsistencies in the data being processed. As Airflow relies on clean, well-structured data to function effectively, an emerging organisation would not be able to fully utilise Airflow. Additionally, as emerging organisations may not have established workflows, it can be challenging to define the DAGs required by Airflow to perform tasks. This can lead to poorly managed processes and inefficiencies, hence organisations with more advanced levels of data maturity are more suited to using Apache Airflow."
   ]
  },
  {
   "cell_type": "code",
   "execution_count": null,
   "id": "71931d95-a85c-40ce-ae4b-6f19bb5a5cf4",
   "metadata": {},
   "outputs": [],
   "source": []
  }
 ],
 "metadata": {
  "kernelspec": {
   "display_name": "Python 3 (ipykernel)",
   "language": "python",
   "name": "python3"
  },
  "language_info": {
   "codemirror_mode": {
    "name": "ipython",
    "version": 3
   },
   "file_extension": ".py",
   "mimetype": "text/x-python",
   "name": "python",
   "nbconvert_exporter": "python",
   "pygments_lexer": "ipython3",
   "version": "3.8.20"
  }
 },
 "nbformat": 4,
 "nbformat_minor": 5
}
